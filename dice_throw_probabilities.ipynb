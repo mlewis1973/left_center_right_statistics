{
 "cells": [
  {
   "cell_type": "markdown",
   "metadata": {},
   "source": [
    "# Introduction\n",
    "***Notebook in progress.***\n",
    "\n",
    "This notebook looks at the possibility of getting any given roll with the Left-Center-Right die, which has one face each for left, center, and right, and three faces total for nothing. The probability on a single die is obviously `1:1:1:3` respectively. We will be looking at the probabilities of throwing multiple dice, and how this changes the game."
   ]
  },
  {
   "cell_type": "markdown",
   "metadata": {},
   "source": [
    "## Imports"
   ]
  },
  {
   "cell_type": "code",
   "execution_count": 1,
   "metadata": {},
   "outputs": [],
   "source": [
    "import pandas\n",
    "import numpy as np\n",
    "np.random.seed(0)\n",
    "from itertools import product\n",
    "import matplotlib.pyplot as plt\n",
    "%matplotlib inline\n",
    "import seaborn as sns"
   ]
  },
  {
   "cell_type": "markdown",
   "metadata": {},
   "source": [
    "# Dice Probabilities\n",
    "\n",
    "First we **define the `LCR_die`** so as not to write repetitive code later."
   ]
  },
  {
   "cell_type": "code",
   "execution_count": 2,
   "metadata": {},
   "outputs": [],
   "source": [
    "# Define the face of the die\n",
    "\n",
    "LCR_die = [\"L\", \"C\", \"R\", \"O\", \"O\", \"O\"]"
   ]
  },
  {
   "cell_type": "markdown",
   "metadata": {},
   "source": [
    "There is a function-wise solution to the coding that follows (which is offered in section 3 of the notebook), but writing it like this is much more readable and clarifies what's actually happening. Here, the relationship is such that **at each level of the for loops we are adding one possible outcome to our previous possible outcome(s), like a branching tree of possibilities,** until all are exhausted. The same holds for all examples herein."
   ]
  },
  {
   "cell_type": "markdown",
   "metadata": {},
   "source": [
    "## Three Dice\n",
    "\n",
    "Here we look at the probabilities that come with **rolling three dice,** which is the **game default.**"
   ]
  },
  {
   "cell_type": "code",
   "execution_count": 3,
   "metadata": {},
   "outputs": [],
   "source": [
    "# Create a list of lists where each sub-list is a possible roll of three dice\n",
    "\n",
    "three_dice = []\n",
    "\n",
    "for i in LCR_die:\n",
    "    for n in LCR_die:\n",
    "        for x in LCR_die:\n",
    "            three_dice.append([i, n, x])"
   ]
  },
  {
   "cell_type": "markdown",
   "metadata": {},
   "source": [
    "There are **216 ways to roll the dice.**\n",
    "\n",
    "Admittedly, some of these have the same in-game impact, such as `[\"L\", \"C\", \"R\"]` and `[\"R\", \"L\", \"C\"]`. We are listing *all such instances* so as to reflect the *likelihood* of their happening. If we were to group all rolls with these three letters and no `\"O\"`s in them as one, we would miss out on the fact that this identical-impact roll *actually* accounts for **6** possible outcomes of the 216."
   ]
  },
  {
   "cell_type": "code",
   "execution_count": 4,
   "metadata": {},
   "outputs": [
    {
     "data": {
      "text/plain": [
       "216"
      ]
     },
     "execution_count": 4,
     "metadata": {},
     "output_type": "execute_result"
    }
   ],
   "source": [
    "# Number of possible outcomes\n",
    "len(three_dice)"
   ]
  },
  {
   "cell_type": "markdown",
   "metadata": {},
   "source": [
    "### Lose Or Keep All"
   ]
  },
  {
   "cell_type": "markdown",
   "metadata": {},
   "source": [
    "Interestingly enough, we now see that **losing all** your coins and **not losing any** are equally likely. This could be problematic (in that the game could ebb and flow eternally), were it not for the fact that losing coins to the center pot loses them forever."
   ]
  },
  {
   "cell_type": "code",
   "execution_count": 5,
   "metadata": {},
   "outputs": [
    {
     "data": {
      "text/plain": [
       "27"
      ]
     },
     "execution_count": 5,
     "metadata": {},
     "output_type": "execute_result"
    }
   ],
   "source": [
    "# Number of outcomes where you KEEP all your coins\n",
    "keep_all = [x for x in three_dice if x == ['O', 'O', 'O']]\n",
    "len(keep_all)"
   ]
  },
  {
   "cell_type": "code",
   "execution_count": 6,
   "metadata": {},
   "outputs": [
    {
     "data": {
      "text/plain": [
       "27"
      ]
     },
     "execution_count": 6,
     "metadata": {},
     "output_type": "execute_result"
    }
   ],
   "source": [
    "# Number of outcomes where you LOSE all your coins\n",
    "lose_all = [x for x in three_dice if 'O' not in x]\n",
    "len(lose_all)"
   ]
  },
  {
   "cell_type": "markdown",
   "metadata": {},
   "source": [
    "### Circulating Coins vs. Losing To The Center Pot\n",
    "\n",
    "The probabilities below show that **the game does *NOT* tend towards decay unless coins must stay in the pot.** They of course must, but this is to say that mathematically it is less likely for coins to enter the pot than it is for them to stay in player circulation.\n",
    "\n",
    "This is perhaps a game-feel decision. If coins entered the pot too often, the game would feel futile. As it stands, it is **1.37** times as likely for coins to stay out of the pot on any given roll."
   ]
  },
  {
   "cell_type": "code",
   "execution_count": 7,
   "metadata": {},
   "outputs": [
    {
     "data": {
      "text/plain": [
       "125"
      ]
     },
     "execution_count": 7,
     "metadata": {},
     "output_type": "execute_result"
    }
   ],
   "source": [
    "# Number of outcomes where NO money enters the pot\n",
    "\n",
    "none_to_pot = [x for x in three_dice if 'C' not in x]\n",
    "len(none_to_pot)"
   ]
  },
  {
   "cell_type": "code",
   "execution_count": 8,
   "metadata": {},
   "outputs": [
    {
     "data": {
      "text/plain": [
       "91"
      ]
     },
     "execution_count": 8,
     "metadata": {},
     "output_type": "execute_result"
    }
   ],
   "source": [
    "# Number of outcomes where SOME money enter the pot\n",
    "\n",
    "some_to_pot = [x for x in three_dice if 'C' in x]\n",
    "len(some_to_pot)"
   ]
  },
  {
   "cell_type": "code",
   "execution_count": 9,
   "metadata": {
    "scrolled": true
   },
   "outputs": [
    {
     "data": {
      "text/plain": [
       "1.3736263736263736"
      ]
     },
     "execution_count": 9,
     "metadata": {},
     "output_type": "execute_result"
    }
   ],
   "source": [
    "len(none_to_pot)/len(some_to_pot)"
   ]
  },
  {
   "cell_type": "markdown",
   "metadata": {},
   "source": [
    "## Four Dice\n",
    "\n",
    "Here we replicate the above findings for a game where instead four dice is the default amount in a throw."
   ]
  },
  {
   "cell_type": "code",
   "execution_count": 10,
   "metadata": {},
   "outputs": [
    {
     "data": {
      "text/plain": [
       "1296"
      ]
     },
     "execution_count": 10,
     "metadata": {},
     "output_type": "execute_result"
    }
   ],
   "source": [
    "# Create a list of lists where each sub-list is a possible roll of four dice\n",
    "\n",
    "four_dice = []\n",
    "\n",
    "for i in LCR_die:\n",
    "    for n in LCR_die:\n",
    "        for x in LCR_die:\n",
    "            for z in LCR_die:\n",
    "                four_dice.append([i, n, x, z])\n",
    "                \n",
    "len(four_dice)"
   ]
  },
  {
   "cell_type": "markdown",
   "metadata": {},
   "source": [
    "We've sextupled our possible outputs from **216** to **1296.** This pattern of powers-of-six will carry as we continue."
   ]
  },
  {
   "cell_type": "code",
   "execution_count": 11,
   "metadata": {},
   "outputs": [
    {
     "data": {
      "text/plain": [
       "6.0"
      ]
     },
     "execution_count": 11,
     "metadata": {},
     "output_type": "execute_result"
    }
   ],
   "source": [
    "1296/216"
   ]
  },
  {
   "cell_type": "markdown",
   "metadata": {},
   "source": [
    "### Lose Or Keep All\n",
    "\n",
    "The equivalence maintains, but we increase the total number of outcomes by **x3.**"
   ]
  },
  {
   "cell_type": "code",
   "execution_count": 12,
   "metadata": {},
   "outputs": [
    {
     "data": {
      "text/plain": [
       "81"
      ]
     },
     "execution_count": 12,
     "metadata": {},
     "output_type": "execute_result"
    }
   ],
   "source": [
    "# Number of outcomes where you KEEP all your coins\n",
    "keep_all_four = [x for x in four_dice if x == ['O', 'O', 'O', 'O']]\n",
    "len(keep_all_four)"
   ]
  },
  {
   "cell_type": "code",
   "execution_count": 13,
   "metadata": {},
   "outputs": [
    {
     "data": {
      "text/plain": [
       "81"
      ]
     },
     "execution_count": 13,
     "metadata": {},
     "output_type": "execute_result"
    }
   ],
   "source": [
    "# Number of outcomes where you LOSE all your coins\n",
    "lose_all_four = [x for x in four_dice if 'O' not in x]\n",
    "len(lose_all_four)"
   ]
  },
  {
   "cell_type": "markdown",
   "metadata": {},
   "source": [
    "### Circulating Coins vs. Losing To The Center Pot\n",
    "\n",
    "Previously, it was **1.37 times** as likely to keep all coins in player circulation. Now, it's only **0.93 times** as likely, meaning that coins enter the pot more often than the opposite. ***As the number of dice increase, so too does the game's rate of decay.***"
   ]
  },
  {
   "cell_type": "code",
   "execution_count": 14,
   "metadata": {},
   "outputs": [
    {
     "data": {
      "text/plain": [
       "625"
      ]
     },
     "execution_count": 14,
     "metadata": {},
     "output_type": "execute_result"
    }
   ],
   "source": [
    "# Number of outcomes where NO money enters the pot\n",
    "\n",
    "none_to_pot_four = [x for x in four_dice if 'C' not in x]\n",
    "len(none_to_pot_four)"
   ]
  },
  {
   "cell_type": "code",
   "execution_count": 15,
   "metadata": {},
   "outputs": [
    {
     "data": {
      "text/plain": [
       "671"
      ]
     },
     "execution_count": 15,
     "metadata": {},
     "output_type": "execute_result"
    }
   ],
   "source": [
    "# Number of outcomes where SOME money enter the pot\n",
    "\n",
    "some_to_pot_four = [x for x in four_dice if 'C' in x]\n",
    "len(some_to_pot_four)"
   ]
  },
  {
   "cell_type": "code",
   "execution_count": 16,
   "metadata": {
    "scrolled": true
   },
   "outputs": [
    {
     "data": {
      "text/plain": [
       "0.9314456035767511"
      ]
     },
     "execution_count": 16,
     "metadata": {},
     "output_type": "execute_result"
    }
   ],
   "source": [
    "len(none_to_pot_four)/len(some_to_pot_four)"
   ]
  },
  {
   "cell_type": "markdown",
   "metadata": {},
   "source": [
    "# Game Decay At Higher Numbers Of Dice"
   ]
  },
  {
   "cell_type": "markdown",
   "metadata": {},
   "source": [
    "## Decay Calculator Function\n",
    "\n",
    "Here we use the `product()` function provided in Itertools to produce Cartesian products, save those, and then use the same list comprehensions as above to find the relationship between coins in-and-out of circulation."
   ]
  },
  {
   "cell_type": "code",
   "execution_count": 17,
   "metadata": {},
   "outputs": [],
   "source": [
    "def LCR_decay_calc(num_dice):\n",
    "    '''\n",
    "    Function that returns the rate of game-decay for Left Center Right, based\n",
    "    on number of dice in play.\n",
    "    ---\n",
    "    num_dice\n",
    "        Number of dice in play. Integer.\n",
    "    '''\n",
    "    LCR_die = [\"L\", \"C\", \"R\", \"O\", \"O\", \"O\"]\n",
    "    outputs = list(product(LCR_die, repeat = num_dice))\n",
    "    \n",
    "    none_in_pot = len([x for x in outputs if 'C' not in x])\n",
    "    some_in_pot = len([x for x in outputs if 'C' in x])\n",
    "    decay_rate = none_in_pot/some_in_pot\n",
    "    \n",
    "    return none_in_pot, some_in_pot, decay_rate"
   ]
  },
  {
   "cell_type": "code",
   "execution_count": 18,
   "metadata": {},
   "outputs": [
    {
     "data": {
      "text/plain": [
       "(125, 91, 1.3736263736263736)"
      ]
     },
     "execution_count": 18,
     "metadata": {},
     "output_type": "execute_result"
    }
   ],
   "source": [
    "# Example of function with three dice, same results as before\n",
    "LCR_decay_calc(3)"
   ]
  },
  {
   "cell_type": "markdown",
   "metadata": {},
   "source": [
    "## Calculating Rates Of Decay\n",
    "\n",
    "Now I'm getting the rates of decay for games with up to 10 dice. This is obviously impractical in a physical sense, but mathematically salient.\n",
    "\n",
    "*Note: If running this code yourself, be mindful that the cell below takes exponentially longer to run with every additional die you add. I ran into memory errors at ten dice and couldn't calculate any higher.*"
   ]
  },
  {
   "cell_type": "code",
   "execution_count": 19,
   "metadata": {},
   "outputs": [],
   "source": [
    "# Create a dictionary to store rates of decay\n",
    "decay_dict = {}\n",
    "for i in range(1, 10):\n",
    "    decay_dict[i] = LCR_decay_calc(i)"
   ]
  },
  {
   "cell_type": "code",
   "execution_count": 20,
   "metadata": {},
   "outputs": [
    {
     "data": {
      "text/plain": [
       "{1: (5, 1, 5.0),\n",
       " 2: (25, 11, 2.272727272727273),\n",
       " 3: (125, 91, 1.3736263736263736),\n",
       " 4: (625, 671, 0.9314456035767511),\n",
       " 5: (3125, 4651, 0.6718985164480756),\n",
       " 6: (15625, 31031, 0.503528729335181),\n",
       " 7: (78125, 201811, 0.3871196317346428),\n",
       " 8: (390625, 1288991, 0.30304711204345103),\n",
       " 9: (1953125, 8124571, 0.24039730836249693)}"
      ]
     },
     "execution_count": 20,
     "metadata": {},
     "output_type": "execute_result"
    }
   ],
   "source": [
    "# And the results\n",
    "decay_dict"
   ]
  },
  {
   "cell_type": "markdown",
   "metadata": {},
   "source": [
    "## Visualizing Rates Of Decay\n",
    "\n",
    "The visualization below shows that increasing the number of dice is inversely proportional to keeping coins in play. In other words, **the more dice you have, the more likely you are to lose coins to the center pot.**\n",
    "\n",
    "If you *were* to play with more dice, you'd have more coins to start, however. A ten-dice game would start with ten coins, and so on. I will be running game simulations in the notebook `game_simulation.ipynb` to see if the games actually *last* for different times."
   ]
  },
  {
   "cell_type": "code",
   "execution_count": 21,
   "metadata": {},
   "outputs": [],
   "source": [
    "# Store the rates of decay in a list\n",
    "decay_rates = [x[2] for x in decay_dict.values()]"
   ]
  },
  {
   "cell_type": "code",
   "execution_count": 35,
   "metadata": {},
   "outputs": [
    {
     "data": {
      "image/png": "[encoded data removed]",
      "text/plain": [
       "<Figure size 648x432 with 1 Axes>"
      ]
     },
     "metadata": {},
     "output_type": "display_data"
    }
   ],
   "source": [
    "# Plot rates of decay\n",
    "sns.set_style('darkgrid')\n",
    "sns.set_context('notebook')\n",
    "plt.figure(figsize = (9,6))\n",
    "sns.lineplot(x = range(1,10), y = decay_rates, c = 'red', linewidth = 2)\n",
    "plt.xlabel(\"Number Of Dice\")\n",
    "plt.ylabel(\"Decay Ratio\")\n",
    "plt.title(\"Decay Ratios In LCR Based On Number Of Dice\")\n",
    "plt.savefig(\"images/decay_ratios.png\");"
   ]
  },
  {
   "cell_type": "markdown",
   "metadata": {},
   "source": [
    "# Appendix\n",
    "\n",
    "## Three Dice Throws\n",
    "\n",
    "These are the 216 possible throws printed out:"
   ]
  },
  {
   "cell_type": "code",
   "execution_count": 23,
   "metadata": {
    "scrolled": false
   },
   "outputs": [
    {
     "data": {
      "text/plain": [
       "[['L', 'L', 'L'],\n",
       " ['L', 'L', 'C'],\n",
       " ['L', 'L', 'R'],\n",
       " ['L', 'L', 'O'],\n",
       " ['L', 'L', 'O'],\n",
       " ['L', 'L', 'O'],\n",
       " ['L', 'C', 'L'],\n",
       " ['L', 'C', 'C'],\n",
       " ['L', 'C', 'R'],\n",
       " ['L', 'C', 'O'],\n",
       " ['L', 'C', 'O'],\n",
       " ['L', 'C', 'O'],\n",
       " ['L', 'R', 'L'],\n",
       " ['L', 'R', 'C'],\n",
       " ['L', 'R', 'R'],\n",
       " ['L', 'R', 'O'],\n",
       " ['L', 'R', 'O'],\n",
       " ['L', 'R', 'O'],\n",
       " ['L', 'O', 'L'],\n",
       " ['L', 'O', 'C'],\n",
       " ['L', 'O', 'R'],\n",
       " ['L', 'O', 'O'],\n",
       " ['L', 'O', 'O'],\n",
       " ['L', 'O', 'O'],\n",
       " ['L', 'O', 'L'],\n",
       " ['L', 'O', 'C'],\n",
       " ['L', 'O', 'R'],\n",
       " ['L', 'O', 'O'],\n",
       " ['L', 'O', 'O'],\n",
       " ['L', 'O', 'O'],\n",
       " ['L', 'O', 'L'],\n",
       " ['L', 'O', 'C'],\n",
       " ['L', 'O', 'R'],\n",
       " ['L', 'O', 'O'],\n",
       " ['L', 'O', 'O'],\n",
       " ['L', 'O', 'O'],\n",
       " ['C', 'L', 'L'],\n",
       " ['C', 'L', 'C'],\n",
       " ['C', 'L', 'R'],\n",
       " ['C', 'L', 'O'],\n",
       " ['C', 'L', 'O'],\n",
       " ['C', 'L', 'O'],\n",
       " ['C', 'C', 'L'],\n",
       " ['C', 'C', 'C'],\n",
       " ['C', 'C', 'R'],\n",
       " ['C', 'C', 'O'],\n",
       " ['C', 'C', 'O'],\n",
       " ['C', 'C', 'O'],\n",
       " ['C', 'R', 'L'],\n",
       " ['C', 'R', 'C'],\n",
       " ['C', 'R', 'R'],\n",
       " ['C', 'R', 'O'],\n",
       " ['C', 'R', 'O'],\n",
       " ['C', 'R', 'O'],\n",
       " ['C', 'O', 'L'],\n",
       " ['C', 'O', 'C'],\n",
       " ['C', 'O', 'R'],\n",
       " ['C', 'O', 'O'],\n",
       " ['C', 'O', 'O'],\n",
       " ['C', 'O', 'O'],\n",
       " ['C', 'O', 'L'],\n",
       " ['C', 'O', 'C'],\n",
       " ['C', 'O', 'R'],\n",
       " ['C', 'O', 'O'],\n",
       " ['C', 'O', 'O'],\n",
       " ['C', 'O', 'O'],\n",
       " ['C', 'O', 'L'],\n",
       " ['C', 'O', 'C'],\n",
       " ['C', 'O', 'R'],\n",
       " ['C', 'O', 'O'],\n",
       " ['C', 'O', 'O'],\n",
       " ['C', 'O', 'O'],\n",
       " ['R', 'L', 'L'],\n",
       " ['R', 'L', 'C'],\n",
       " ['R', 'L', 'R'],\n",
       " ['R', 'L', 'O'],\n",
       " ['R', 'L', 'O'],\n",
       " ['R', 'L', 'O'],\n",
       " ['R', 'C', 'L'],\n",
       " ['R', 'C', 'C'],\n",
       " ['R', 'C', 'R'],\n",
       " ['R', 'C', 'O'],\n",
       " ['R', 'C', 'O'],\n",
       " ['R', 'C', 'O'],\n",
       " ['R', 'R', 'L'],\n",
       " ['R', 'R', 'C'],\n",
       " ['R', 'R', 'R'],\n",
       " ['R', 'R', 'O'],\n",
       " ['R', 'R', 'O'],\n",
       " ['R', 'R', 'O'],\n",
       " ['R', 'O', 'L'],\n",
       " ['R', 'O', 'C'],\n",
       " ['R', 'O', 'R'],\n",
       " ['R', 'O', 'O'],\n",
       " ['R', 'O', 'O'],\n",
       " ['R', 'O', 'O'],\n",
       " ['R', 'O', 'L'],\n",
       " ['R', 'O', 'C'],\n",
       " ['R', 'O', 'R'],\n",
       " ['R', 'O', 'O'],\n",
       " ['R', 'O', 'O'],\n",
       " ['R', 'O', 'O'],\n",
       " ['R', 'O', 'L'],\n",
       " ['R', 'O', 'C'],\n",
       " ['R', 'O', 'R'],\n",
       " ['R', 'O', 'O'],\n",
       " ['R', 'O', 'O'],\n",
       " ['R', 'O', 'O'],\n",
       " ['O', 'L', 'L'],\n",
       " ['O', 'L', 'C'],\n",
       " ['O', 'L', 'R'],\n",
       " ['O', 'L', 'O'],\n",
       " ['O', 'L', 'O'],\n",
       " ['O', 'L', 'O'],\n",
       " ['O', 'C', 'L'],\n",
       " ['O', 'C', 'C'],\n",
       " ['O', 'C', 'R'],\n",
       " ['O', 'C', 'O'],\n",
       " ['O', 'C', 'O'],\n",
       " ['O', 'C', 'O'],\n",
       " ['O', 'R', 'L'],\n",
       " ['O', 'R', 'C'],\n",
       " ['O', 'R', 'R'],\n",
       " ['O', 'R', 'O'],\n",
       " ['O', 'R', 'O'],\n",
       " ['O', 'R', 'O'],\n",
       " ['O', 'O', 'L'],\n",
       " ['O', 'O', 'C'],\n",
       " ['O', 'O', 'R'],\n",
       " ['O', 'O', 'O'],\n",
       " ['O', 'O', 'O'],\n",
       " ['O', 'O', 'O'],\n",
       " ['O', 'O', 'L'],\n",
       " ['O', 'O', 'C'],\n",
       " ['O', 'O', 'R'],\n",
       " ['O', 'O', 'O'],\n",
       " ['O', 'O', 'O'],\n",
       " ['O', 'O', 'O'],\n",
       " ['O', 'O', 'L'],\n",
       " ['O', 'O', 'C'],\n",
       " ['O', 'O', 'R'],\n",
       " ['O', 'O', 'O'],\n",
       " ['O', 'O', 'O'],\n",
       " ['O', 'O', 'O'],\n",
       " ['O', 'L', 'L'],\n",
       " ['O', 'L', 'C'],\n",
       " ['O', 'L', 'R'],\n",
       " ['O', 'L', 'O'],\n",
       " ['O', 'L', 'O'],\n",
       " ['O', 'L', 'O'],\n",
       " ['O', 'C', 'L'],\n",
       " ['O', 'C', 'C'],\n",
       " ['O', 'C', 'R'],\n",
       " ['O', 'C', 'O'],\n",
       " ['O', 'C', 'O'],\n",
       " ['O', 'C', 'O'],\n",
       " ['O', 'R', 'L'],\n",
       " ['O', 'R', 'C'],\n",
       " ['O', 'R', 'R'],\n",
       " ['O', 'R', 'O'],\n",
       " ['O', 'R', 'O'],\n",
       " ['O', 'R', 'O'],\n",
       " ['O', 'O', 'L'],\n",
       " ['O', 'O', 'C'],\n",
       " ['O', 'O', 'R'],\n",
       " ['O', 'O', 'O'],\n",
       " ['O', 'O', 'O'],\n",
       " ['O', 'O', 'O'],\n",
       " ['O', 'O', 'L'],\n",
       " ['O', 'O', 'C'],\n",
       " ['O', 'O', 'R'],\n",
       " ['O', 'O', 'O'],\n",
       " ['O', 'O', 'O'],\n",
       " ['O', 'O', 'O'],\n",
       " ['O', 'O', 'L'],\n",
       " ['O', 'O', 'C'],\n",
       " ['O', 'O', 'R'],\n",
       " ['O', 'O', 'O'],\n",
       " ['O', 'O', 'O'],\n",
       " ['O', 'O', 'O'],\n",
       " ['O', 'L', 'L'],\n",
       " ['O', 'L', 'C'],\n",
       " ['O', 'L', 'R'],\n",
       " ['O', 'L', 'O'],\n",
       " ['O', 'L', 'O'],\n",
       " ['O', 'L', 'O'],\n",
       " ['O', 'C', 'L'],\n",
       " ['O', 'C', 'C'],\n",
       " ['O', 'C', 'R'],\n",
       " ['O', 'C', 'O'],\n",
       " ['O', 'C', 'O'],\n",
       " ['O', 'C', 'O'],\n",
       " ['O', 'R', 'L'],\n",
       " ['O', 'R', 'C'],\n",
       " ['O', 'R', 'R'],\n",
       " ['O', 'R', 'O'],\n",
       " ['O', 'R', 'O'],\n",
       " ['O', 'R', 'O'],\n",
       " ['O', 'O', 'L'],\n",
       " ['O', 'O', 'C'],\n",
       " ['O', 'O', 'R'],\n",
       " ['O', 'O', 'O'],\n",
       " ['O', 'O', 'O'],\n",
       " ['O', 'O', 'O'],\n",
       " ['O', 'O', 'L'],\n",
       " ['O', 'O', 'C'],\n",
       " ['O', 'O', 'R'],\n",
       " ['O', 'O', 'O'],\n",
       " ['O', 'O', 'O'],\n",
       " ['O', 'O', 'O'],\n",
       " ['O', 'O', 'L'],\n",
       " ['O', 'O', 'C'],\n",
       " ['O', 'O', 'R'],\n",
       " ['O', 'O', 'O'],\n",
       " ['O', 'O', 'O'],\n",
       " ['O', 'O', 'O']]"
      ]
     },
     "execution_count": 23,
     "metadata": {},
     "output_type": "execute_result"
    }
   ],
   "source": [
    "three_dice"
   ]
  }
 ],
 "metadata": {
  "kernelspec": {
   "display_name": "Python [conda env:learn-env] *",
   "language": "python",
   "name": "conda-env-learn-env-py"
  },
  "language_info": {
   "codemirror_mode": {
    "name": "ipython",
    "version": 3
   },
   "file_extension": ".py",
   "mimetype": "text/x-python",
   "name": "python",
   "nbconvert_exporter": "python",
   "pygments_lexer": "ipython3",
   "version": "3.6.9"
  },
  "toc": {
   "base_numbering": 1,
   "nav_menu": {},
   "number_sections": true,
   "sideBar": true,
   "skip_h1_title": false,
   "title_cell": "Table of Contents",
   "title_sidebar": "Contents",
   "toc_cell": false,
   "toc_position": {},
   "toc_section_display": true,
   "toc_window_display": false
  },
  "varInspector": {
   "cols": {
    "lenName": 16,
    "lenType": 16,
    "lenVar": 40
   },
   "kernels_config": {
    "python": {
     "delete_cmd_postfix": "",
     "delete_cmd_prefix": "del ",
     "library": "var_list.py",
     "varRefreshCmd": "print(var_dic_list())"
    },
    "r": {
     "delete_cmd_postfix": ") ",
     "delete_cmd_prefix": "rm(",
     "library": "var_list.r",
     "varRefreshCmd": "cat(var_dic_list()) "
    }
   },
   "types_to_exclude": [
    "module",
    "function",
    "builtin_function_or_method",
    "instance",
    "_Feature"
   ],
   "window_display": false
  }
 },
 "nbformat": 4,
 "nbformat_minor": 2
}
