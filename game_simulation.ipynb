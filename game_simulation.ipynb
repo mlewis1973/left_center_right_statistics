{
 "cells": [
  {
   "cell_type": "markdown",
   "metadata": {},
   "source": [
    "# Introduction\n",
    "\n",
    "***Notebook in progress. Defining classes of Player and Game to prep for simulations.***"
   ]
  },
  {
   "cell_type": "markdown",
   "metadata": {},
   "source": [
    "## Imports"
   ]
  },
  {
   "cell_type": "code",
   "execution_count": 38,
   "metadata": {},
   "outputs": [],
   "source": [
    "import numpy as np\n",
    "np.random.seed(0)\n",
    "import operator\n",
    "import pandas as pd"
   ]
  },
  {
   "cell_type": "markdown",
   "metadata": {},
   "source": [
    "# Helper Function\n",
    "\n",
    "Creating a function that randomly rolls the LCR die `num_dice` number of times and returns the total roll as a list."
   ]
  },
  {
   "cell_type": "code",
   "execution_count": 2,
   "metadata": {},
   "outputs": [],
   "source": [
    "def roll_LCR(num_dice):\n",
    "    '''\n",
    "    Rolls n dice and returns the output as a list of n strings.\n",
    "    '''\n",
    "    output = []\n",
    "    for i in range(num_dice):\n",
    "        roll = np.random.choice([\"L\", \"C\", \"R\", \"O\", \"O\", \"O\"])\n",
    "        output.append(roll)\n",
    "    return output"
   ]
  },
  {
   "cell_type": "code",
   "execution_count": 3,
   "metadata": {},
   "outputs": [
    {
     "data": {
      "text/plain": [
       "['O', 'O', 'L', 'O', 'O', 'O', 'C', 'O']"
      ]
     },
     "execution_count": 3,
     "metadata": {},
     "output_type": "execute_result"
    }
   ],
   "source": [
    "# Example\n",
    "roll_LCR(8)"
   ]
  },
  {
   "cell_type": "markdown",
   "metadata": {},
   "source": [
    "# `Player` Class"
   ]
  },
  {
   "cell_type": "code",
   "execution_count": 4,
   "metadata": {},
   "outputs": [],
   "source": [
    "class Player:\n",
    "    \n",
    "    def __init__(self, player_num, coins = 0, to_left = None,\n",
    "                 to_right = None, game = None):\n",
    "        self.player_num = int(player_num)\n",
    "        self.coins = int(coins)\n",
    "        self.to_left = to_left\n",
    "        self.to_right = to_right\n",
    "        self.game = game\n",
    "        \n",
    "    def roll(self, num_dice):\n",
    "        '''\n",
    "        Rolls n dice and returns the output as a list of n strings. Wrapper.\n",
    "        '''\n",
    "        roll = roll_LCR(num_dice)\n",
    "        return roll\n",
    "\n",
    "    def pass_coins(self, roll):\n",
    "        '''\n",
    "        Takes in a roll as list from roll() function. Passes coins to\n",
    "        appropriate players and pot. Subtracts lost coins from self.\n",
    "        '''\n",
    "# Subtract coins from self\n",
    "        self.coins -= len([x for x in roll if x != 'O'])\n",
    "# Pass coins to players on right and left\n",
    "        self.to_right.coins += len([x for x in roll if x == 'R'])\n",
    "        self.to_left.coins += len([x for x in roll if x == 'L'])\n",
    "# Pass coins to central pot via game class\n",
    "        self.game.central_pot += len([x for x in roll if x == 'C'])"
   ]
  },
  {
   "cell_type": "markdown",
   "metadata": {},
   "source": [
    "# `Game` Class"
   ]
  },
  {
   "cell_type": "code",
   "execution_count": 5,
   "metadata": {},
   "outputs": [],
   "source": [
    "class Game:\n",
    "    \n",
    "    def __init__(self, current_round = 0, central_pot = 0):\n",
    "        self.current_round = current_round\n",
    "        self.central_pot = central_pot"
   ]
  },
  {
   "cell_type": "markdown",
   "metadata": {},
   "source": [
    "# Example\n",
    "\n",
    "Below we can see how the game is set up, and how it functions. By passing the instances of the `Player` class to each other, we can make the game work *relationally.* They all are able to update each other's coins, and passing them becomes extremely simple."
   ]
  },
  {
   "cell_type": "code",
   "execution_count": 11,
   "metadata": {},
   "outputs": [],
   "source": [
    "# Create a game\n",
    "game = Game()\n",
    "\n",
    "# Create players\n",
    "emi = Player(player_num = 1, coins = 3, to_left = None,\n",
    "             to_right = None, game = game)\n",
    "\n",
    "steven = Player(player_num = 2, coins = 3, to_left = emi,\n",
    "                to_right = None, game = game)\n",
    "\n",
    "matt = Player(player_num = 3, coins = 3, to_left = steven,\n",
    "              to_right = emi, game = game)\n",
    "\n",
    "# Some backtracking is needed to set up relationships\n",
    "emi.to_left, emi.to_right = matt, steven\n",
    "steven.to_right = matt"
   ]
  },
  {
   "cell_type": "markdown",
   "metadata": {},
   "source": [
    "The cell above is effectively our \"prep\" section. The section below is where the game is actually \"played.\""
   ]
  },
  {
   "cell_type": "code",
   "execution_count": 12,
   "metadata": {},
   "outputs": [
    {
     "data": {
      "text/plain": [
       "['C', 'L', 'C']"
      ]
     },
     "execution_count": 12,
     "metadata": {},
     "output_type": "execute_result"
    }
   ],
   "source": [
    "# Have player Emi roll three dice\n",
    "her_roll = emi.roll(3)\n",
    "\n",
    "# She will put two in central pot and pass one to player on left\n",
    "her_roll"
   ]
  },
  {
   "cell_type": "code",
   "execution_count": 13,
   "metadata": {},
   "outputs": [
    {
     "data": {
      "text/plain": [
       "3"
      ]
     },
     "execution_count": 13,
     "metadata": {},
     "output_type": "execute_result"
    }
   ],
   "source": [
    "# She has three coins before passing\n",
    "\n",
    "emi.coins"
   ]
  },
  {
   "cell_type": "code",
   "execution_count": 14,
   "metadata": {},
   "outputs": [
    {
     "name": "stdout",
     "output_type": "stream",
     "text": [
      "0 3 4 2\n"
     ]
    }
   ],
   "source": [
    "# All coins are passed\n",
    "emi.pass_coins(her_roll)\n",
    "\n",
    "# We see she has zero, Matt gained one, and the central pot gained two\n",
    "print(emi.coins, steven.coins, matt.coins, game.central_pot)"
   ]
  },
  {
   "cell_type": "markdown",
   "metadata": {},
   "source": [
    "Here's another example where Matt passes one of his coins to the central pot. The game continues like this until only one player and the pot have coins."
   ]
  },
  {
   "cell_type": "code",
   "execution_count": 17,
   "metadata": {},
   "outputs": [
    {
     "data": {
      "text/plain": [
       "['O', 'C', 'O']"
      ]
     },
     "execution_count": 17,
     "metadata": {},
     "output_type": "execute_result"
    }
   ],
   "source": [
    "matts_roll = matt.roll(3)\n",
    "matts_roll"
   ]
  },
  {
   "cell_type": "code",
   "execution_count": 18,
   "metadata": {},
   "outputs": [
    {
     "name": "stdout",
     "output_type": "stream",
     "text": [
      "0 3 3 3\n"
     ]
    }
   ],
   "source": [
    "matt.pass_coins(matts_roll)\n",
    "print(emi.coins, steven.coins, matt.coins, game.central_pot)"
   ]
  },
  {
   "cell_type": "markdown",
   "metadata": {},
   "source": [
    "# Scratch paper"
   ]
  },
  {
   "cell_type": "markdown",
   "metadata": {},
   "source": [
    "How to determine the game's winner:"
   ]
  },
  {
   "cell_type": "code",
   "execution_count": 44,
   "metadata": {},
   "outputs": [],
   "source": [
    "players = [emi, steven, matt]\n",
    "\n",
    "sorted_x = sorted(players, key = operator.attrgetter('coins'), reverse=True)"
   ]
  },
  {
   "cell_type": "code",
   "execution_count": 47,
   "metadata": {},
   "outputs": [
    {
     "name": "stdout",
     "output_type": "stream",
     "text": [
      "0 3 9 3\n",
      "The winner is player 3\n"
     ]
    }
   ],
   "source": [
    "print(emi.coins, steven.coins, matt.coins, game.central_pot)\n",
    "print(\"The winner is player\", sorted_x[0].player_num)"
   ]
  }
 ],
 "metadata": {
  "kernelspec": {
   "display_name": "Python [conda env:learn-env] *",
   "language": "python",
   "name": "conda-env-learn-env-py"
  },
  "language_info": {
   "codemirror_mode": {
    "name": "ipython",
    "version": 3
   },
   "file_extension": ".py",
   "mimetype": "text/x-python",
   "name": "python",
   "nbconvert_exporter": "python",
   "pygments_lexer": "ipython3",
   "version": "3.6.9"
  },
  "toc": {
   "base_numbering": 1,
   "nav_menu": {},
   "number_sections": true,
   "sideBar": true,
   "skip_h1_title": false,
   "title_cell": "Table of Contents",
   "title_sidebar": "Contents",
   "toc_cell": false,
   "toc_position": {},
   "toc_section_display": true,
   "toc_window_display": false
  },
  "varInspector": {
   "cols": {
    "lenName": 16,
    "lenType": 16,
    "lenVar": 40
   },
   "kernels_config": {
    "python": {
     "delete_cmd_postfix": "",
     "delete_cmd_prefix": "del ",
     "library": "var_list.py",
     "varRefreshCmd": "print(var_dic_list())"
    },
    "r": {
     "delete_cmd_postfix": ") ",
     "delete_cmd_prefix": "rm(",
     "library": "var_list.r",
     "varRefreshCmd": "cat(var_dic_list()) "
    }
   },
   "types_to_exclude": [
    "module",
    "function",
    "builtin_function_or_method",
    "instance",
    "_Feature"
   ],
   "window_display": false
  }
 },
 "nbformat": 4,
 "nbformat_minor": 2
}
