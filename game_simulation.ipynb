{
 "cells": [
  {
   "cell_type": "markdown",
   "metadata": {},
   "source": [
    "# Introduction\n",
    "\n",
    "***Notebook in progress. Defining classes of Player and Game to prep for simulations.***"
   ]
  },
  {
   "cell_type": "markdown",
   "metadata": {},
   "source": [
    "## Imports"
   ]
  },
  {
   "cell_type": "code",
   "execution_count": 33,
   "metadata": {},
   "outputs": [],
   "source": [
    "import numpy as np\n",
    "np.random.seed(0)\n",
    "import operator\n",
    "import pandas as pd"
   ]
  },
  {
   "cell_type": "markdown",
   "metadata": {},
   "source": [
    "# Helper Function\n",
    "\n",
    "Creating a function that randomly rolls the LCR die `num_dice` number of times and returns the total roll as a list."
   ]
  },
  {
   "cell_type": "code",
   "execution_count": 34,
   "metadata": {},
   "outputs": [],
   "source": [
    "def roll_LCR(num_dice):\n",
    "    '''\n",
    "    Rolls n dice and returns the output as a list of n strings.\n",
    "    '''\n",
    "    output = []\n",
    "    for i in range(num_dice):\n",
    "        roll = np.random.choice([\"L\", \"C\", \"R\", \"O\", \"O\", \"O\"])\n",
    "        output.append(roll)\n",
    "    return output"
   ]
  },
  {
   "cell_type": "code",
   "execution_count": 35,
   "metadata": {},
   "outputs": [
    {
     "data": {
      "text/plain": [
       "['O', 'O', 'L', 'O', 'O', 'O', 'C', 'O']"
      ]
     },
     "execution_count": 35,
     "metadata": {},
     "output_type": "execute_result"
    }
   ],
   "source": [
    "# Example\n",
    "roll_LCR(8)"
   ]
  },
  {
   "cell_type": "markdown",
   "metadata": {},
   "source": [
    "# `Player` Class"
   ]
  },
  {
   "cell_type": "code",
   "execution_count": 36,
   "metadata": {},
   "outputs": [],
   "source": [
    "class Player:\n",
    "    '''\n",
    "    Represents a human player in the LCR game.\n",
    "    ---\n",
    "    player_num\n",
    "        ID number. Should be unique from other players.\n",
    "    coins\n",
    "        Amount of coins a player has at any time. Defaults to 0.\n",
    "    to_left\n",
    "        Player who is to their left. Default None.\n",
    "    to_right\n",
    "        Player who is to their right. Default None.\n",
    "    game\n",
    "        Object of class Game. Makes player able to alter central\n",
    "        pot of coins. Default None.\n",
    "    '''\n",
    "    def __init__(self, player_num, coins = 0, to_left = None,\n",
    "                 to_right = None, game = None):\n",
    "        self.player_num = int(player_num)\n",
    "        self.coins = int(coins)\n",
    "        self.to_left = to_left\n",
    "        self.to_right = to_right\n",
    "        self.game = game\n",
    "        \n",
    "    def roll(self, num_dice):\n",
    "        '''\n",
    "        Rolls n dice and returns the output as a list of n strings. Wrapper.\n",
    "        '''\n",
    "        roll = roll_LCR(num_dice)\n",
    "        return roll\n",
    "\n",
    "    def pass_coins(self, roll):\n",
    "        '''\n",
    "        Takes in a roll as list from roll() function. Passes coins to\n",
    "        appropriate players and pot. Subtracts lost coins from self.\n",
    "        '''\n",
    "# Subtract coins from self\n",
    "        self.coins -= len([x for x in roll if x != 'O'])\n",
    "# Pass coins to players on right and left\n",
    "        self.to_right.coins += len([x for x in roll if x == 'R'])\n",
    "        self.to_left.coins += len([x for x in roll if x == 'L'])\n",
    "# Pass coins to central pot via game class\n",
    "        self.game.central_pot += len([x for x in roll if x == 'C'])"
   ]
  },
  {
   "cell_type": "markdown",
   "metadata": {},
   "source": [
    "# `Game` Class"
   ]
  },
  {
   "cell_type": "code",
   "execution_count": 37,
   "metadata": {},
   "outputs": [],
   "source": [
    "class Game:\n",
    "    '''\n",
    "    Represents gamestate for LCR. Tracks central pot of coins and how long\n",
    "    the players have been playing for.\n",
    "    ---\n",
    "    rounds_played\n",
    "        Number of game rounds that have been played. Defaults to 0.\n",
    "    central_pot\n",
    "        Number of coins in the central pot. Coins never leave this pot,\n",
    "        i. e. this value should never decrease. Defaults to 0.\n",
    "    '''\n",
    "    def __init__(self, rounds_played = 0, central_pot = 0):\n",
    "        self.rounds_played = rounds_played\n",
    "        self.central_pot = central_pot"
   ]
  },
  {
   "cell_type": "markdown",
   "metadata": {},
   "source": [
    "# Example\n",
    "\n",
    "Below we can see how the game is set up, and how it functions. By passing the instances of the `Player` class to each other, we can make the game work *relationally.* They all are able to update each other's coins, and passing them becomes extremely simple."
   ]
  },
  {
   "cell_type": "code",
   "execution_count": 320,
   "metadata": {},
   "outputs": [],
   "source": [
    "# Create a game\n",
    "game = Game()\n",
    "\n",
    "# Create players\n",
    "emi = Player(player_num = 1, coins = 3, to_left = None,\n",
    "             to_right = None, game = game)\n",
    "\n",
    "steven = Player(player_num = 2, coins = 3, to_left = emi,\n",
    "                to_right = None, game = game)\n",
    "\n",
    "matt = Player(player_num = 3, coins = 3, to_left = steven,\n",
    "              to_right = emi, game = game)\n",
    "\n",
    "# Some backtracking is needed to set up relationships\n",
    "emi.to_left, emi.to_right = matt, steven\n",
    "steven.to_right = matt"
   ]
  },
  {
   "cell_type": "markdown",
   "metadata": {},
   "source": [
    "The cell above is effectively our \"prep\" section. The section below is where the game is actually \"played.\""
   ]
  },
  {
   "cell_type": "code",
   "execution_count": 39,
   "metadata": {},
   "outputs": [
    {
     "data": {
      "text/plain": [
       "['O', 'R', 'O']"
      ]
     },
     "execution_count": 39,
     "metadata": {},
     "output_type": "execute_result"
    }
   ],
   "source": [
    "# Have player Emi roll three dice\n",
    "her_roll = emi.roll(3)\n",
    "\n",
    "# She will put two in central pot and pass one to player on left\n",
    "her_roll"
   ]
  },
  {
   "cell_type": "code",
   "execution_count": 40,
   "metadata": {},
   "outputs": [
    {
     "data": {
      "text/plain": [
       "3"
      ]
     },
     "execution_count": 40,
     "metadata": {},
     "output_type": "execute_result"
    }
   ],
   "source": [
    "# She has three coins before passing\n",
    "\n",
    "emi.coins"
   ]
  },
  {
   "cell_type": "code",
   "execution_count": 41,
   "metadata": {},
   "outputs": [
    {
     "name": "stdout",
     "output_type": "stream",
     "text": [
      "2 4 3 0\n"
     ]
    }
   ],
   "source": [
    "# All coins are passed\n",
    "emi.pass_coins(her_roll)\n",
    "\n",
    "# We see she has zero, Matt gained one, and the central pot gained two\n",
    "print(emi.coins, steven.coins, matt.coins, game.central_pot)"
   ]
  },
  {
   "cell_type": "markdown",
   "metadata": {},
   "source": [
    "Here's another example where Matt passes one of his coins to the central pot. The game continues like this until only one player and the pot have coins."
   ]
  },
  {
   "cell_type": "code",
   "execution_count": 42,
   "metadata": {},
   "outputs": [
    {
     "data": {
      "text/plain": [
       "['L', 'L', 'O']"
      ]
     },
     "execution_count": 42,
     "metadata": {},
     "output_type": "execute_result"
    }
   ],
   "source": [
    "matts_roll = matt.roll(3)\n",
    "matts_roll"
   ]
  },
  {
   "cell_type": "code",
   "execution_count": 24,
   "metadata": {},
   "outputs": [
    {
     "name": "stdout",
     "output_type": "stream",
     "text": [
      "2 6 1 0\n"
     ]
    }
   ],
   "source": [
    "matt.pass_coins(matts_roll)\n",
    "print(emi.coins, steven.coins, matt.coins, game.central_pot)"
   ]
  },
  {
   "cell_type": "markdown",
   "metadata": {},
   "source": [
    "# Game Simulation En Masse (Unfinished)\n",
    "\n",
    "I want this to do the following:\n",
    "\n",
    "- Create a game\n",
    "- Create players for the game\n",
    "- Define their relationships spatially\n",
    "- Run rounds of the game until "
   ]
  },
  {
   "cell_type": "markdown",
   "metadata": {},
   "source": [
    "## `LCR_take_turn()`\n",
    "\n",
    "This simulates a player rolling the number of dice in a given game, and passing the appropriate coins here. This will be done multiple times every turn, so we are defining this function outside of the main simulation loop for ease of reading."
   ]
  },
  {
   "cell_type": "code",
   "execution_count": 316,
   "metadata": {},
   "outputs": [],
   "source": [
    "def LCR_take_turn(player, dice_max = 3):\n",
    "    '''\n",
    "    Represents one player taking a turn in LCR.\n",
    "    ---\n",
    "    player\n",
    "        Player object.\n",
    "    dice_max\n",
    "        Max number of dice in the current game. Players roll either this\n",
    "        number of dice, or a number of dice equivalent to their amount of\n",
    "        coins (since they can only pass the coins they have). Defaults to 3.\n",
    "    '''\n",
    "    if player.coins == 0:\n",
    "        print('Skipped...')\n",
    "        return\n",
    "    elif player.coins < dice_max:\n",
    "        roll = player.roll(num_dice = player.coins)\n",
    "        player.pass_coins(roll)\n",
    "    else:\n",
    "        roll = player.roll(num_dice = dice_max)\n",
    "        player.pass_coins(roll)"
   ]
  },
  {
   "cell_type": "code",
   "execution_count": 323,
   "metadata": {},
   "outputs": [
    {
     "name": "stdout",
     "output_type": "stream",
     "text": [
      "4 4 0\n",
      "Skipped...\n",
      "4 4 0\n"
     ]
    }
   ],
   "source": [
    "# Example, with coins before and after printed\n",
    "print(emi.coins, steven.coins, matt.coins)\n",
    "LCR_take_turn(matt)\n",
    "print(emi.coins, steven.coins, matt.coins)"
   ]
  },
  {
   "cell_type": "markdown",
   "metadata": {},
   "source": [
    "## `LCR_simulation` (Unfinished)"
   ]
  },
  {
   "cell_type": "code",
   "execution_count": 328,
   "metadata": {},
   "outputs": [],
   "source": [
    "def LCR_simulation(num_dice = 3, num_players = 3):\n",
    "    \n",
    "    # Create game\n",
    "    game = Game()\n",
    "    \n",
    "    # Create table of players, listed clockwise so player to left is i+1\n",
    "    players = [] # list of players\n",
    "    for i in range(num_players):\n",
    "        players.append( Player( player_num = i, coins = num_dice, to_left = None, to_right = None, game = game) )\n",
    "    for i in range(num_players-1):\n",
    "        players[i].to_left = players[i+1]\n",
    "    players[num_players-1].to_left = players[0]\n",
    "    for i in range(1,num_players):\n",
    "        players[i].to_right = players[i-1]\n",
    "    players[0].to_right = players[num_players-1]\n",
    "    \n",
    "    # Play game until only one player has coins\n",
    "    player_coins = [p.coins for p in players]\n",
    "    while (len([x for x in player_coins if x]) != 1):\n",
    "        for i in players:\n",
    "            LCR_take_turn(i, dice_max = num_dice)\n",
    "        game.rounds_played += 1\n",
    "        player_coins = [p.coins for p in players]\n",
    "        #print(player_coins)\n",
    "        \n",
    "    # Sort players by coin count\n",
    "    sorted_players = sorted(players, key = operator.attrgetter('coins'),\n",
    "                            reverse=True)\n",
    "    \n",
    "    # Find winner\n",
    "    winner = sorted_players[0].player_num\n",
    "    \n",
    "    # Save winner's coins\n",
    "    for i in players:\n",
    "        if i.player_num == winner:\n",
    "            winner_coins = i.coins\n",
    "    \n",
    "    # Save all end game information\n",
    "    results_dict = {\"Rounds Played\": game.rounds_played,\n",
    "                    \"Coins In Central Pot\": game.central_pot,\n",
    "                    \"Winner\": winner,\n",
    "                    \"Winner Coins\": winner_coins}\n",
    "    \n",
    "    return results_dict\n",
    "        \n",
    "        "
   ]
  },
  {
   "cell_type": "code",
   "execution_count": 352,
   "metadata": {},
   "outputs": [],
   "source": [
    "def LCR_simulation(num_dice = 3, num_players = 3):\n",
    "    \n",
    "    # Create game\n",
    "    game = Game()\n",
    "    \n",
    "    # Create table of players, listed clockwise so player to left is i+1\n",
    "    players = [] # list of players\n",
    "    for i in range(num_players):\n",
    "        players.append( Player( player_num = i, coins = num_dice, to_left = None, to_right = None, game = game) )\n",
    "    for i in range(num_players-1):\n",
    "        players[i].to_left = players[i+1]\n",
    "    players[num_players-1].to_left = players[0]\n",
    "    for i in range(1,num_players):\n",
    "        players[i].to_right = players[i-1]\n",
    "    players[0].to_right = players[num_players-1]\n",
    "    \n",
    "    # Play game until only one player has coins\n",
    "    player_coins = [p.coins for p in players]\n",
    "    rolls = 0\n",
    "    current_player = players[0]\n",
    "    while (len([x for x in player_coins if x]) != 1):\n",
    "        LCR_take_turn(current_player, dice_max = num_dice)\n",
    "        rolls += 1.\n",
    "        game.rounds_played = rolls/num_players\n",
    "        current_player = current_player.to_left\n",
    "        player_coins = [p.coins for p in players]\n",
    "        print(player_coins, game.central_pot)\n",
    "        \n",
    "    # Sort players by coin count\n",
    "    sorted_players = sorted(players, key = operator.attrgetter('coins'),\n",
    "                            reverse=True)\n",
    "    \n",
    "    # Find winner\n",
    "    winner = sorted_players[0].player_num\n",
    "    \n",
    "    # Save winner's coins\n",
    "    for i in players:\n",
    "        if i.player_num == winner:\n",
    "            winner_coins = i.coins\n",
    "    \n",
    "    # Save all end game information\n",
    "    results_dict = {\"Rounds Played\": game.rounds_played,\n",
    "                    \"Coins In Central Pot\": game.central_pot,\n",
    "                    \"Winner\": winner,\n",
    "                    \"Winner Coins\": winner_coins}\n",
    "    \n",
    "    return results_dict"
   ]
  },
  {
   "cell_type": "code",
   "execution_count": 363,
   "metadata": {},
   "outputs": [
    {
     "name": "stdout",
     "output_type": "stream",
     "text": [
      "[0, 3, 3] 3\n",
      "[0, 2, 3] 4\n",
      "[1, 3, 1] 4\n",
      "[1, 3, 1] 4\n",
      "[2, 1, 1] 5\n",
      "[2, 1, 1] 5\n",
      "[2, 1, 1] 5\n",
      "[2, 0, 2] 5\n",
      "[2, 0, 2] 5\n",
      "[1, 0, 2] 6\n",
      "Skipped...\n",
      "[1, 0, 2] 6\n",
      "[1, 1, 1] 6\n",
      "[1, 1, 1] 6\n",
      "[1, 0, 2] 6\n",
      "[1, 0, 2] 6\n",
      "[0, 0, 2] 7\n"
     ]
    },
    {
     "data": {
      "text/plain": [
       "{'Rounds Played': 5.333333333333333,\n",
       " 'Coins In Central Pot': 7,\n",
       " 'Winner': 2,\n",
       " 'Winner Coins': 2}"
      ]
     },
     "execution_count": 363,
     "metadata": {},
     "output_type": "execute_result"
    }
   ],
   "source": [
    "LCR_simulation(num_players = 3)"
   ]
  },
  {
   "cell_type": "code",
   "execution_count": 290,
   "metadata": {},
   "outputs": [],
   "source": [
    "##### ROUGH BOY #####\n",
    "\n",
    "def LCR_simulation(num_dice = 3):\n",
    "\n",
    "    # Create game\n",
    "    game = Game()\n",
    "    \n",
    "    # Create players\n",
    "    emi = Player(player_num = 1, coins = 3, to_left = None,\n",
    "                 to_right = None, game = game)\n",
    "    steven = Player(player_num = 2, coins = 3, to_left = emi,\n",
    "                    to_right = None, game = game)\n",
    "    matt = Player(player_num = 3, coins = 3, to_left = steven,\n",
    "                  to_right = emi, game = game)\n",
    "    players = [emi, steven, matt]\n",
    "    \n",
    "    # Set up relationships\n",
    "    emi.to_left, emi.to_right = matt, steven\n",
    "    steven.to_right = matt\n",
    "    \n",
    "    # Play game until only one player has coins\n",
    "    player_coins = [emi.coins, steven.coins, matt.coins]\n",
    "    while (len([x for x in player_coins if x]) > 1):\n",
    "        for i in players:\n",
    "            LCR_take_turn(i, dice_max = num_dice)\n",
    "        game.rounds_played += 1\n",
    "        player_coins = [emi.coins, steven.coins, matt.coins]\n",
    "        #print(player_coins)\n",
    "    \n",
    "    # Sort players by coin count\n",
    "    sorted_players = sorted(players, key = operator.attrgetter('coins'),\n",
    "                            reverse=True)\n",
    "    \n",
    "    # Find winner\n",
    "    winner = sorted_players[0].player_num\n",
    "    \n",
    "    # Save winner's coins\n",
    "    for i in players:\n",
    "        if i.player_num == winner:\n",
    "            winner_coins = i.coins\n",
    "    \n",
    "    # Save all end game information\n",
    "    results_dict = {\"Rounds Played\": game.rounds_played,\n",
    "                    \"Coins In Central Pot\": game.central_pot,\n",
    "                    \"Winner\": winner,\n",
    "                    \"Winner Coins\": winner_coins}\n",
    "    \n",
    "    return results_dict"
   ]
  },
  {
   "cell_type": "markdown",
   "metadata": {},
   "source": [
    "# Scratch paper"
   ]
  },
  {
   "cell_type": "markdown",
   "metadata": {},
   "source": [
    "How to determine the game's winner:"
   ]
  },
  {
   "cell_type": "code",
   "execution_count": 44,
   "metadata": {},
   "outputs": [],
   "source": [
    "players = [emi, steven, matt]\n",
    "\n",
    "sorted_x = sorted(players, key = operator.attrgetter('coins'), reverse=True)"
   ]
  },
  {
   "cell_type": "code",
   "execution_count": 47,
   "metadata": {
    "scrolled": true
   },
   "outputs": [
    {
     "name": "stdout",
     "output_type": "stream",
     "text": [
      "0 3 9 3\n",
      "The winner is player 3\n"
     ]
    }
   ],
   "source": [
    "print(emi.coins, steven.coins, matt.coins, game.central_pot)\n",
    "print(\"The winner is player\", sorted_x[0].player_num)"
   ]
  },
  {
   "cell_type": "markdown",
   "metadata": {},
   "source": [
    "Alternate way to handle `while` loop in simulation. Does same thing but less readable IMO:"
   ]
  },
  {
   "cell_type": "code",
   "execution_count": 62,
   "metadata": {},
   "outputs": [],
   "source": [
    "def single_true(iterable):\n",
    "    i = iter(iterable)\n",
    "    return any(i) and not any(i)"
   ]
  },
  {
   "cell_type": "markdown",
   "metadata": {},
   "source": [
    "Thinking about getting stuck playing forever:"
   ]
  },
  {
   "cell_type": "code",
   "execution_count": 115,
   "metadata": {},
   "outputs": [
    {
     "name": "stdout",
     "output_type": "stream",
     "text": [
      "True\n"
     ]
    }
   ],
   "source": [
    "test = [0, 1, 1]\n",
    "while (len([x for x in test if x]) != 1):\n",
    "    print(True)\n",
    "    test[1] = 0"
   ]
  }
 ],
 "metadata": {
  "kernelspec": {
   "display_name": "Python 3 (ipykernel)",
   "language": "python",
   "name": "python3"
  },
  "language_info": {
   "codemirror_mode": {
    "name": "ipython",
    "version": 3
   },
   "file_extension": ".py",
   "mimetype": "text/x-python",
   "name": "python",
   "nbconvert_exporter": "python",
   "pygments_lexer": "ipython3",
   "version": "3.9.5"
  },
  "toc": {
   "base_numbering": 1,
   "nav_menu": {},
   "number_sections": true,
   "sideBar": true,
   "skip_h1_title": false,
   "title_cell": "Table of Contents",
   "title_sidebar": "Contents",
   "toc_cell": false,
   "toc_position": {},
   "toc_section_display": true,
   "toc_window_display": false
  },
  "varInspector": {
   "cols": {
    "lenName": 16,
    "lenType": 16,
    "lenVar": 40
   },
   "kernels_config": {
    "python": {
     "delete_cmd_postfix": "",
     "delete_cmd_prefix": "del ",
     "library": "var_list.py",
     "varRefreshCmd": "print(var_dic_list())"
    },
    "r": {
     "delete_cmd_postfix": ") ",
     "delete_cmd_prefix": "rm(",
     "library": "var_list.r",
     "varRefreshCmd": "cat(var_dic_list()) "
    }
   },
   "types_to_exclude": [
    "module",
    "function",
    "builtin_function_or_method",
    "instance",
    "_Feature"
   ],
   "window_display": false
  }
 },
 "nbformat": 4,
 "nbformat_minor": 2
}
